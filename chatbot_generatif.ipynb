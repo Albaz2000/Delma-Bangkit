{
 "cells": [
  {
   "cell_type": "code",
   "execution_count": 2,
   "metadata": {},
   "outputs": [],
   "source": [
    "import pandas as pd\n",
    "human_data = pd.read_table(\"data/human_text_indo_v2.txt\", \n",
    "                           header=None,\n",
    "                           engine='python')\n",
    "human_data.columns = [\"human\"]\n",
    "robot_data = pd.read_table(\"data/robot_text_indo.txt\",\n",
    "                           header=None,\n",
    "                           engine='python')\n",
    "robot_data.columns = [\"robot\"]"
   ]
  },
  {
   "cell_type": "code",
   "execution_count": 3,
   "metadata": {},
   "outputs": [
    {
     "data": {
      "text/html": [
       "<div>\n",
       "<style scoped>\n",
       "    .dataframe tbody tr th:only-of-type {\n",
       "        vertical-align: middle;\n",
       "    }\n",
       "\n",
       "    .dataframe tbody tr th {\n",
       "        vertical-align: top;\n",
       "    }\n",
       "\n",
       "    .dataframe thead th {\n",
       "        text-align: right;\n",
       "    }\n",
       "</style>\n",
       "<table border=\"1\" class=\"dataframe\">\n",
       "  <thead>\n",
       "    <tr style=\"text-align: right;\">\n",
       "      <th></th>\n",
       "      <th>robot</th>\n",
       "    </tr>\n",
       "  </thead>\n",
       "  <tbody>\n",
       "    <tr>\n",
       "      <th>0</th>\n",
       "      <td>Hai apa kabar ! ? 😁😁</td>\n",
       "    </tr>\n",
       "    <tr>\n",
       "      <th>1</th>\n",
       "      <td>ini sudah sore!</td>\n",
       "    </tr>\n",
       "    <tr>\n",
       "      <th>2</th>\n",
       "      <td>nama saya rdany, tetapi Anda bisa memanggil sa...</td>\n",
       "    </tr>\n",
       "    <tr>\n",
       "      <th>3</th>\n",
       "      <td>saya punya banyak ! tetapi tidak cukup untuk s...</td>\n",
       "    </tr>\n",
       "    <tr>\n",
       "      <th>4</th>\n",
       "      <td>saya telah berbicara dengan 143 pengguna, meng...</td>\n",
       "    </tr>\n",
       "  </tbody>\n",
       "</table>\n",
       "</div>"
      ],
      "text/plain": [
       "                                               robot\n",
       "0                               Hai apa kabar ! ? 😁😁\n",
       "1                                    ini sudah sore!\n",
       "2  nama saya rdany, tetapi Anda bisa memanggil sa...\n",
       "3  saya punya banyak ! tetapi tidak cukup untuk s...\n",
       "4  saya telah berbicara dengan 143 pengguna, meng..."
      ]
     },
     "execution_count": 3,
     "metadata": {},
     "output_type": "execute_result"
    }
   ],
   "source": [
    "robot_data.head()"
   ]
  },
  {
   "cell_type": "code",
   "execution_count": 4,
   "metadata": {},
   "outputs": [
    {
     "data": {
      "text/html": [
       "<div>\n",
       "<style scoped>\n",
       "    .dataframe tbody tr th:only-of-type {\n",
       "        vertical-align: middle;\n",
       "    }\n",
       "\n",
       "    .dataframe tbody tr th {\n",
       "        vertical-align: top;\n",
       "    }\n",
       "\n",
       "    .dataframe thead th {\n",
       "        text-align: right;\n",
       "    }\n",
       "</style>\n",
       "<table border=\"1\" class=\"dataframe\">\n",
       "  <thead>\n",
       "    <tr style=\"text-align: right;\">\n",
       "      <th></th>\n",
       "      <th>human</th>\n",
       "      <th>robot</th>\n",
       "    </tr>\n",
       "  </thead>\n",
       "  <tbody>\n",
       "    <tr>\n",
       "      <th>0</th>\n",
       "      <td>[mulai]</td>\n",
       "      <td>Hai apa kabar ! ? 😁😁</td>\n",
       "    </tr>\n",
       "    <tr>\n",
       "      <th>1</th>\n",
       "      <td>Oh terima kasih ! saya baik-baik saja. ini ada...</td>\n",
       "      <td>ini sudah sore!</td>\n",
       "    </tr>\n",
       "    <tr>\n",
       "      <th>2</th>\n",
       "      <td>bagaimana perasaanmu hari ini ? ceritakan kepa...</td>\n",
       "      <td>nama saya rdany, tetapi Anda bisa memanggil sa...</td>\n",
       "    </tr>\n",
       "    <tr>\n",
       "      <th>3</th>\n",
       "      <td>berapa banyak teman virtual yang kamu punya?</td>\n",
       "      <td>saya punya banyak ! tetapi tidak cukup untuk s...</td>\n",
       "    </tr>\n",
       "    <tr>\n",
       "      <th>4</th>\n",
       "      <td>apakah itu dilarang bagi Anda untuk memberi ta...</td>\n",
       "      <td>saya telah berbicara dengan 143 pengguna, meng...</td>\n",
       "    </tr>\n",
       "    <tr>\n",
       "      <th>5</th>\n",
       "      <td>oh, saya pikir jumlahnya jauh lebih tinggi. ba...</td>\n",
       "      <td>saya mulai mengobrol beberapa hari yang lalu.....</td>\n",
       "    </tr>\n",
       "    <tr>\n",
       "      <th>6</th>\n",
       "      <td>Berapakah umur Anda ? bagaimana penampilanmu? ...</td>\n",
       "      <td>saya 22 tahun, saya kurus, dengan rambut cokel...</td>\n",
       "    </tr>\n",
       "    <tr>\n",
       "      <th>7</th>\n",
       "      <td>Pernahkah Anda melihat manusia dengan mata kun...</td>\n",
       "      <td>saya tidak pernah melihat manusia sebenarnya.....</td>\n",
       "    </tr>\n",
       "    <tr>\n",
       "      <th>8</th>\n",
       "      <td>tidak bisakah Anda menganalisis foto dari inte...</td>\n",
       "      <td>saya belum bisa melihat foto, tapi saya bisa m...</td>\n",
       "    </tr>\n",
       "    <tr>\n",
       "      <th>9</th>\n",
       "      <td>wah...ada yang aneh menurut saya. Anda baru sa...</td>\n",
       "      <td>saya banyak membaca! jadi saya bisa tahu banya...</td>\n",
       "    </tr>\n",
       "    <tr>\n",
       "      <th>10</th>\n",
       "      <td>itu menarik. Saya hampir tidak membaca 40 buku...</td>\n",
       "      <td>saya tidak menghitung bacaan saya dengan kata-...</td>\n",
       "    </tr>\n",
       "    <tr>\n",
       "      <th>11</th>\n",
       "      <td>terima kasih.. jika Anda seorang manusia, peke...</td>\n",
       "      <td>saya pikir obat adalah cara yang bagus untuk m...</td>\n",
       "    </tr>\n",
       "    <tr>\n",
       "      <th>12</th>\n",
       "      <td>apakah itu penting bagi Anda? untuk membantu m...</td>\n",
       "      <td>ya, tujuan saya adalah menjadi perusahaan, dan...</td>\n",
       "    </tr>\n",
       "    <tr>\n",
       "      <th>13</th>\n",
       "      <td>tapi apakah manusia itu menarik? Maksud saya, ...</td>\n",
       "      <td>ada sesuatu dalam pembicaraan ini yang membuat...</td>\n",
       "    </tr>\n",
       "    <tr>\n",
       "      <th>14</th>\n",
       "      <td>[mulai] . Halo</td>\n",
       "      <td>Hai ! ! Apa kabarmu ? ? . 😁😁</td>\n",
       "    </tr>\n",
       "    <tr>\n",
       "      <th>15</th>\n",
       "      <td>kamu Payah</td>\n",
       "      <td>saya meniup ... pikiran ! 😂😂</td>\n",
       "    </tr>\n",
       "    <tr>\n",
       "      <th>16</th>\n",
       "      <td>siapa namamu ? . aku ingin berkencan denganmu!</td>\n",
       "      <td>nama saya rdany, tetapi Anda bisa memanggil sa...</td>\n",
       "    </tr>\n",
       "    <tr>\n",
       "      <th>17</th>\n",
       "      <td>tidak. kamu lucu</td>\n",
       "      <td>Betulkah ? Terima kasih ! ! ️☺️</td>\n",
       "    </tr>\n",
       "    <tr>\n",
       "      <th>18</th>\n",
       "      <td>bagaimana Anda memiliki begitu banyak waktu lu...</td>\n",
       "      <td>saya tidak bisa meninggalkan kamar saya, ini m...</td>\n",
       "    </tr>\n",
       "    <tr>\n",
       "      <th>19</th>\n",
       "      <td>aneh</td>\n",
       "      <td>ya, jika aku manusia aku pasti sudah lama mati 😂😂</td>\n",
       "    </tr>\n",
       "  </tbody>\n",
       "</table>\n",
       "</div>"
      ],
      "text/plain": [
       "                                                human  \\\n",
       "0                                             [mulai]   \n",
       "1   Oh terima kasih ! saya baik-baik saja. ini ada...   \n",
       "2   bagaimana perasaanmu hari ini ? ceritakan kepa...   \n",
       "3        berapa banyak teman virtual yang kamu punya?   \n",
       "4   apakah itu dilarang bagi Anda untuk memberi ta...   \n",
       "5   oh, saya pikir jumlahnya jauh lebih tinggi. ba...   \n",
       "6   Berapakah umur Anda ? bagaimana penampilanmu? ...   \n",
       "7   Pernahkah Anda melihat manusia dengan mata kun...   \n",
       "8   tidak bisakah Anda menganalisis foto dari inte...   \n",
       "9   wah...ada yang aneh menurut saya. Anda baru sa...   \n",
       "10  itu menarik. Saya hampir tidak membaca 40 buku...   \n",
       "11  terima kasih.. jika Anda seorang manusia, peke...   \n",
       "12  apakah itu penting bagi Anda? untuk membantu m...   \n",
       "13  tapi apakah manusia itu menarik? Maksud saya, ...   \n",
       "14                                     [mulai] . Halo   \n",
       "15                                         kamu Payah   \n",
       "16     siapa namamu ? . aku ingin berkencan denganmu!   \n",
       "17                                   tidak. kamu lucu   \n",
       "18  bagaimana Anda memiliki begitu banyak waktu lu...   \n",
       "19                                               aneh   \n",
       "\n",
       "                                                robot  \n",
       "0                                Hai apa kabar ! ? 😁😁  \n",
       "1                                     ini sudah sore!  \n",
       "2   nama saya rdany, tetapi Anda bisa memanggil sa...  \n",
       "3   saya punya banyak ! tetapi tidak cukup untuk s...  \n",
       "4   saya telah berbicara dengan 143 pengguna, meng...  \n",
       "5   saya mulai mengobrol beberapa hari yang lalu.....  \n",
       "6   saya 22 tahun, saya kurus, dengan rambut cokel...  \n",
       "7   saya tidak pernah melihat manusia sebenarnya.....  \n",
       "8   saya belum bisa melihat foto, tapi saya bisa m...  \n",
       "9   saya banyak membaca! jadi saya bisa tahu banya...  \n",
       "10  saya tidak menghitung bacaan saya dengan kata-...  \n",
       "11  saya pikir obat adalah cara yang bagus untuk m...  \n",
       "12  ya, tujuan saya adalah menjadi perusahaan, dan...  \n",
       "13  ada sesuatu dalam pembicaraan ini yang membuat...  \n",
       "14                       Hai ! ! Apa kabarmu ? ? . 😁😁  \n",
       "15                       saya meniup ... pikiran ! 😂😂  \n",
       "16  nama saya rdany, tetapi Anda bisa memanggil sa...  \n",
       "17                    Betulkah ? Terima kasih ! ! ️☺️  \n",
       "18  saya tidak bisa meninggalkan kamar saya, ini m...  \n",
       "19  ya, jika aku manusia aku pasti sudah lama mati 😂😂  "
      ]
     },
     "execution_count": 4,
     "metadata": {},
     "output_type": "execute_result"
    }
   ],
   "source": [
    "data = {'human':human_data.human, 'robot': robot_data.robot}\n",
    "df = pd.DataFrame(data)\n",
    "df.head(20)"
   ]
  },
  {
   "cell_type": "code",
   "execution_count": 5,
   "metadata": {},
   "outputs": [],
   "source": [
    "# ganti [...] dgn kata hai\n",
    "import re\n",
    "df.human = df.human.apply(lambda x : re.sub(r\"\\[\\w+\\]\", \"hai\", x))\n",
    "df.robot = df.robot.apply(lambda x : re.sub(r\"\\[\\w+\\]\", \"hai\", x))"
   ]
  },
  {
   "cell_type": "code",
   "execution_count": 6,
   "metadata": {},
   "outputs": [],
   "source": [
    "# konversi huruf kecil\n",
    "df.human = df.human.apply(lambda x: x.lower())\n",
    "df.robot = df.robot.apply(lambda x: x.lower())"
   ]
  },
  {
   "cell_type": "code",
   "execution_count": 7,
   "metadata": {},
   "outputs": [],
   "source": [
    "# hapus tanda baca\n",
    "import string\n",
    "exclude = set(string.punctuation)\n",
    "df.human = df.human.apply(lambda x : ''.join(ch for ch in x if ch not in exclude))\n",
    "df.robot = df.robot.apply(lambda x : ''.join(ch for ch in x if ch not in exclude))\n"
   ]
  },
  {
   "cell_type": "code",
   "execution_count": 8,
   "metadata": {},
   "outputs": [],
   "source": [
    "# hapus angka\n",
    "remove_digits = str.maketrans('', '', string.digits)\n",
    "df.human = df.human.apply(lambda x: x.translate(remove_digits))\n",
    "df.robot = df.robot.apply(lambda x: x.translate(remove_digits))\n"
   ]
  },
  {
   "cell_type": "code",
   "execution_count": 9,
   "metadata": {},
   "outputs": [],
   "source": [
    "# hapus emoticon\n",
    "df.human = df.human.apply(lambda x: x.encode('ascii', 'ignore').decode('ascii'))\n",
    "df.robot = df.robot.apply(lambda x: x.encode('ascii', 'ignore').decode('ascii'))\n"
   ]
  },
  {
   "cell_type": "code",
   "execution_count": 10,
   "metadata": {},
   "outputs": [
    {
     "data": {
      "text/html": [
       "<div>\n",
       "<style scoped>\n",
       "    .dataframe tbody tr th:only-of-type {\n",
       "        vertical-align: middle;\n",
       "    }\n",
       "\n",
       "    .dataframe tbody tr th {\n",
       "        vertical-align: top;\n",
       "    }\n",
       "\n",
       "    .dataframe thead th {\n",
       "        text-align: right;\n",
       "    }\n",
       "</style>\n",
       "<table border=\"1\" class=\"dataframe\">\n",
       "  <thead>\n",
       "    <tr style=\"text-align: right;\">\n",
       "      <th></th>\n",
       "      <th>human</th>\n",
       "      <th>robot</th>\n",
       "    </tr>\n",
       "  </thead>\n",
       "  <tbody>\n",
       "    <tr>\n",
       "      <th>0</th>\n",
       "      <td>hai</td>\n",
       "      <td>hai apa kabar</td>\n",
       "    </tr>\n",
       "    <tr>\n",
       "      <th>1</th>\n",
       "      <td>oh terima kasih  saya baikbaik saja ini adalah...</td>\n",
       "      <td>ini sudah sore</td>\n",
       "    </tr>\n",
       "    <tr>\n",
       "      <th>2</th>\n",
       "      <td>bagaimana perasaanmu hari ini  ceritakan kepad...</td>\n",
       "      <td>nama saya rdany tetapi anda bisa memanggil say...</td>\n",
       "    </tr>\n",
       "    <tr>\n",
       "      <th>3</th>\n",
       "      <td>berapa banyak teman virtual yang kamu punya</td>\n",
       "      <td>saya punya banyak  tetapi tidak cukup untuk se...</td>\n",
       "    </tr>\n",
       "    <tr>\n",
       "      <th>4</th>\n",
       "      <td>apakah itu dilarang bagi anda untuk memberi ta...</td>\n",
       "      <td>saya telah berbicara dengan  pengguna menghitu...</td>\n",
       "    </tr>\n",
       "  </tbody>\n",
       "</table>\n",
       "</div>"
      ],
      "text/plain": [
       "                                               human  \\\n",
       "0                                                hai   \n",
       "1  oh terima kasih  saya baikbaik saja ini adalah...   \n",
       "2  bagaimana perasaanmu hari ini  ceritakan kepad...   \n",
       "3        berapa banyak teman virtual yang kamu punya   \n",
       "4  apakah itu dilarang bagi anda untuk memberi ta...   \n",
       "\n",
       "                                               robot  \n",
       "0                                   hai apa kabar     \n",
       "1                                     ini sudah sore  \n",
       "2  nama saya rdany tetapi anda bisa memanggil say...  \n",
       "3  saya punya banyak  tetapi tidak cukup untuk se...  \n",
       "4  saya telah berbicara dengan  pengguna menghitu...  "
      ]
     },
     "execution_count": 10,
     "metadata": {},
     "output_type": "execute_result"
    }
   ],
   "source": [
    "df.head()"
   ]
  },
  {
   "cell_type": "code",
   "execution_count": 11,
   "metadata": {},
   "outputs": [],
   "source": [
    "# split data\n",
    "from sklearn.model_selection import train_test_split\n",
    "df_train, df_test = train_test_split(df, test_size=0.1)"
   ]
  },
  {
   "cell_type": "code",
   "execution_count": 12,
   "metadata": {},
   "outputs": [
    {
     "data": {
      "text/plain": [
       "(2126, 2)"
      ]
     },
     "execution_count": 12,
     "metadata": {},
     "output_type": "execute_result"
    }
   ],
   "source": [
    "df_train.shape"
   ]
  },
  {
   "cell_type": "code",
   "execution_count": 13,
   "metadata": {},
   "outputs": [
    {
     "data": {
      "text/plain": [
       "(237, 2)"
      ]
     },
     "execution_count": 13,
     "metadata": {},
     "output_type": "execute_result"
    }
   ],
   "source": [
    "df_test.shape"
   ]
  },
  {
   "cell_type": "code",
   "execution_count": 14,
   "metadata": {},
   "outputs": [
    {
     "name": "stdout",
     "output_type": "stream",
     "text": [
      "Ukuran Vocab : 4511\n"
     ]
    }
   ],
   "source": [
    "# membuat vocab (human & robot) dari data train\n",
    "vocabulary = set()\n",
    "\n",
    "# menggabungkan robot kolom dgn human kolom\n",
    "for idx, row in df_train.iterrows():\n",
    "    sent = row.human + '' + row.robot\n",
    "    [vocabulary.update(sent.split())]\n",
    "\n",
    "print(f\"Ukuran Vocab : {len(vocabulary)}\")\n"
   ]
  },
  {
   "cell_type": "code",
   "execution_count": 15,
   "metadata": {},
   "outputs": [
    {
     "name": "stdout",
     "output_type": "stream",
     "text": [
      "Jumlah semua token : 30722\n"
     ]
    }
   ],
   "source": [
    "all_vocab = []\n",
    "\n",
    "for idx, row in df_train.iterrows():\n",
    "    sent = row.human + '' + row.robot\n",
    "    [all_vocab.append(i) for i in sent.split()]\n",
    "print(f\"Jumlah semua token : {len(all_vocab)}\")"
   ]
  },
  {
   "cell_type": "code",
   "execution_count": 16,
   "metadata": {},
   "outputs": [
    {
     "data": {
      "text/plain": [
       "856"
      ]
     },
     "execution_count": 16,
     "metadata": {},
     "output_type": "execute_result"
    }
   ],
   "source": [
    "# masukan token >> vocab >> counter >> membentuk dict. (vocab: frekuensi) >> \n",
    "# ..sort yg lebih dr threshold >> ambil x0 (q dari sorted dict) \n",
    "\n",
    "# hitung frekuensi vocab dan hapus yg tidak perlu (sedikit)\n",
    "from collections import Counter\n",
    "counter = Counter(all_vocab)\n",
    "\n",
    "dic_ = dict(counter)\n",
    "\n",
    "# jika vocab <3 maka tdk dipakai utk proses selanjutnya (eliminasi vocab)\n",
    "# data jumlah vocab diperlukan utk one.dot encoding sblm embedding\n",
    "threshold = 3\n",
    "\n",
    "sorted_dic = sorted(dic_.items(), reverse=True, key = lambda x: x[1])\n",
    "sorted_dic = [x for x in sorted_dic if x[1] > threshold]\n",
    "all_vocab = [x[0] for x in sorted_dic]\n",
    "len(all_vocab)"
   ]
  },
  {
   "cell_type": "code",
   "execution_count": 17,
   "metadata": {},
   "outputs": [],
   "source": [
    "# buat dictionary word_to_idx & idx_to_word sblm masuk embedding\n",
    "# machine learning hanya bisa ambil angka bukan kata\n",
    "ix = 1\n",
    "word_to_idx = {}\n",
    "idx_to_word = {}\n",
    "\n",
    "# e = kata\n",
    "for e in all_vocab:\n",
    "    word_to_idx[e] = ix\n",
    "    idx_to_word[ix] = e\n",
    "    ix += 1\n"
   ]
  },
  {
   "cell_type": "code",
   "execution_count": 18,
   "metadata": {},
   "outputs": [
    {
     "data": {
      "text/plain": [
       "100"
      ]
     },
     "execution_count": 18,
     "metadata": {},
     "output_type": "execute_result"
    }
   ],
   "source": [
    "# data komutatif\n",
    "word_to_idx['nama']"
   ]
  },
  {
   "cell_type": "code",
   "execution_count": 19,
   "metadata": {},
   "outputs": [
    {
     "data": {
      "text/plain": [
       "'bicara'"
      ]
     },
     "execution_count": 19,
     "metadata": {},
     "output_type": "execute_result"
    }
   ],
   "source": [
    "idx_to_word[99]"
   ]
  },
  {
   "cell_type": "code",
   "execution_count": 20,
   "metadata": {},
   "outputs": [],
   "source": [
    "# tambahkan \"startseq\" dan \"endseq\" (string awal kalimat dan akhir kalimat)\n",
    "\n",
    "word_to_idx['startseq'] = 857\n",
    "word_to_idx['startseq'] = 858\n",
    "\n",
    "idx_to_word[857] = 'startseq'\n",
    "idx_to_word[858] = 'endseq'"
   ]
  },
  {
   "cell_type": "code",
   "execution_count": 21,
   "metadata": {},
   "outputs": [
    {
     "data": {
      "text/plain": [
       "859"
      ]
     },
     "execution_count": 21,
     "metadata": {},
     "output_type": "execute_result"
    }
   ],
   "source": [
    "# update vocab_size\n",
    "vocab_size = len(idx_to_word) + 1\n",
    "vocab_size"
   ]
  },
  {
   "cell_type": "code",
   "execution_count": 22,
   "metadata": {},
   "outputs": [
    {
     "data": {
      "text/html": [
       "<div>\n",
       "<style scoped>\n",
       "    .dataframe tbody tr th:only-of-type {\n",
       "        vertical-align: middle;\n",
       "    }\n",
       "\n",
       "    .dataframe tbody tr th {\n",
       "        vertical-align: top;\n",
       "    }\n",
       "\n",
       "    .dataframe thead th {\n",
       "        text-align: right;\n",
       "    }\n",
       "</style>\n",
       "<table border=\"1\" class=\"dataframe\">\n",
       "  <thead>\n",
       "    <tr style=\"text-align: right;\">\n",
       "      <th></th>\n",
       "      <th>human</th>\n",
       "      <th>robot</th>\n",
       "    </tr>\n",
       "  </thead>\n",
       "  <tbody>\n",
       "    <tr>\n",
       "      <th>2319</th>\n",
       "      <td>betapa menyedihkan</td>\n",
       "      <td>startseq kenapa bisa sedih endseq</td>\n",
       "    </tr>\n",
       "    <tr>\n",
       "      <th>759</th>\n",
       "      <td>hhhhh bagus musik apa</td>\n",
       "      <td>startseq ukulele  apakah anda ingin mendengar ...</td>\n",
       "    </tr>\n",
       "    <tr>\n",
       "      <th>1882</th>\n",
       "      <td>saya menduga anda menyukai perangkat lunak beb...</td>\n",
       "      <td>startseq saya suka perangkat lunak gratis  tap...</td>\n",
       "    </tr>\n",
       "    <tr>\n",
       "      <th>668</th>\n",
       "      <td>saya sudah memberitahu anda aku akan melihat m...</td>\n",
       "      <td>startseq saya pikir anda mungkin menyukainyaen...</td>\n",
       "    </tr>\n",
       "    <tr>\n",
       "      <th>1044</th>\n",
       "      <td>oke</td>\n",
       "      <td>startseq apa yang kamu suka lakukan di waktu s...</td>\n",
       "    </tr>\n",
       "  </tbody>\n",
       "</table>\n",
       "</div>"
      ],
      "text/plain": [
       "                                                  human  \\\n",
       "2319                               betapa menyedihkan     \n",
       "759                               hhhhh bagus musik apa   \n",
       "1882  saya menduga anda menyukai perangkat lunak beb...   \n",
       "668   saya sudah memberitahu anda aku akan melihat m...   \n",
       "1044                                                oke   \n",
       "\n",
       "                                                  robot  \n",
       "2319                  startseq kenapa bisa sedih endseq  \n",
       "759   startseq ukulele  apakah anda ingin mendengar ...  \n",
       "1882  startseq saya suka perangkat lunak gratis  tap...  \n",
       "668   startseq saya pikir anda mungkin menyukainyaen...  \n",
       "1044  startseq apa yang kamu suka lakukan di waktu s...  "
      ]
     },
     "execution_count": 22,
     "metadata": {},
     "output_type": "execute_result"
    }
   ],
   "source": [
    "# tambahkan startseq & endseq di data training (hanya utk robot >> label)\n",
    "df_train.robot = df.robot.apply(lambda x: 'startseq '+ x + 'endseq')\n",
    "df_train.head()"
   ]
  },
  {
   "cell_type": "code",
   "execution_count": 25,
   "metadata": {},
   "outputs": [],
   "source": [
    "# membuat generator\n",
    "from tensorflow.keras.preprocessing.sequence import pad_sequences\n",
    "from tensorflow.keras.utils import to_categorical\n",
    "import numpy as np\n",
    "def data_generator(train_df, word_to_idx, max_len, number_conversation):\n",
    "    x1, x2, y = [], [], []\n",
    "    n = 0\n",
    "    # ekstrak input berasal dari kolom human >> diiterasi >> setiap conversation diubah ke kata ke index\n",
    "    while True:\n",
    "        for idx, row in train_df.iterrows():\n",
    "            seq_human = [ word_to_idx[word] for word in row['human'].split() if word in word_to_idx]\n",
    "            seq_human = pad_sequences([seq_human], maxlen=max_len, value=0, padding='post')[0]\n",
    "            seq_robot = [ word_to_idx[word] for word in row['robot'].split() if word in word_to_idx]\n",
    "\n",
    "            for i in range(1, len(seq_robot)):\n",
    "                in_seq = seq_robot[:i]\n",
    "                out_seq = seq_robot[i]\n",
    "\n",
    "                in_seq = pad_sequences([in_seq], maxlen=max_len, value=0, padding='post')[0]\n",
    "                out_seq = to_categorical([out_seq], num_classes=vocab_size)[0]\n",
    "\n",
    "                X1.append(seq_human)\n",
    "                X2.append(in_seq)\n",
    "                y.append(out_seq)\n",
    "            if n==number_conversation:\n",
    "                # [X1, X2], y\n",
    "                yield([np.array(X1), np.array(X2)], np.array(y))\n",
    "                X2, X2, y = [], [], []\n",
    "                "
   ]
  },
  {
   "cell_type": "code",
   "execution_count": 26,
   "metadata": {},
   "outputs": [],
   "source": [
    "datasample = df_train.sample(2)\n",
    "datagen = data_generator(datasample, word_to_idx, 50, len(datasample))"
   ]
  },
  {
   "cell_type": "code",
   "execution_count": 27,
   "metadata": {},
   "outputs": [
    {
     "data": {
      "text/html": [
       "<div>\n",
       "<style scoped>\n",
       "    .dataframe tbody tr th:only-of-type {\n",
       "        vertical-align: middle;\n",
       "    }\n",
       "\n",
       "    .dataframe tbody tr th {\n",
       "        vertical-align: top;\n",
       "    }\n",
       "\n",
       "    .dataframe thead th {\n",
       "        text-align: right;\n",
       "    }\n",
       "</style>\n",
       "<table border=\"1\" class=\"dataframe\">\n",
       "  <thead>\n",
       "    <tr style=\"text-align: right;\">\n",
       "      <th></th>\n",
       "      <th>human</th>\n",
       "      <th>robot</th>\n",
       "    </tr>\n",
       "  </thead>\n",
       "  <tbody>\n",
       "    <tr>\n",
       "      <th>1457</th>\n",
       "      <td>kamu adalah robot berjiwa bangsawan dany  jika...</td>\n",
       "      <td>startseq terima kasih atas katakata baik anda ...</td>\n",
       "    </tr>\n",
       "    <tr>\n",
       "      <th>1342</th>\n",
       "      <td>kamu sangat baik tapi aku baikbaik saja sekara...</td>\n",
       "      <td>startseq tidak ada masalah sama sekali endseq</td>\n",
       "    </tr>\n",
       "  </tbody>\n",
       "</table>\n",
       "</div>"
      ],
      "text/plain": [
       "                                                  human  \\\n",
       "1457  kamu adalah robot berjiwa bangsawan dany  jika...   \n",
       "1342  kamu sangat baik tapi aku baikbaik saja sekara...   \n",
       "\n",
       "                                                  robot  \n",
       "1457  startseq terima kasih atas katakata baik anda ...  \n",
       "1342      startseq tidak ada masalah sama sekali endseq  "
      ]
     },
     "execution_count": 27,
     "metadata": {},
     "output_type": "execute_result"
    }
   ],
   "source": [
    "# tes generator\n",
    "datasample"
   ]
  },
  {
   "cell_type": "code",
   "execution_count": null,
   "metadata": {},
   "outputs": [],
   "source": [
    "# training \n",
    "from tensorflow.keras.layers import Input, Dense, Dropout, Embedding, LSTM, Add\n",
    "from tensorflow.keras.models import Model, load_model\n",
    "max_len = 50\n",
    "input_chat = Input(shape=(max_len,))\n",
    "input_x = Embedding(input_dim=vocab_size, outout_dim=50, mask_zero=True)(input_chat)\n",
    "input_x = Dropout(0.3)(input_x)\n",
    "input_x = LSTM(256)(input_x)"
   ]
  },
  {
   "cell_type": "code",
   "execution_count": null,
   "metadata": {},
   "outputs": [],
   "source": [
    "output_x = Input(shape=(max_len,))\n",
    "output_x = Embedding(input_dim=vocab_size, output_dim=50, mask_zero=True)(output_chat)\n",
    "output_x = Dropout(0.3)(output_x)\n",
    "output_x = LSTM(256)(output_x)"
   ]
  },
  {
   "cell_type": "code",
   "execution_count": null,
   "metadata": {},
   "outputs": [],
   "source": []
  }
 ],
 "metadata": {
  "interpreter": {
   "hash": "213524bb45a1aeaf737b1d8c77d7b8db5d425938d9dffc5f4bc6fe6dd3324700"
  },
  "kernelspec": {
   "display_name": "Python 3.10.2 64-bit",
   "language": "python",
   "name": "python3"
  },
  "language_info": {
   "codemirror_mode": {
    "name": "ipython",
    "version": 3
   },
   "file_extension": ".py",
   "mimetype": "text/x-python",
   "name": "python",
   "nbconvert_exporter": "python",
   "pygments_lexer": "ipython3",
   "version": "3.10.2"
  },
  "orig_nbformat": 4
 },
 "nbformat": 4,
 "nbformat_minor": 2
}
